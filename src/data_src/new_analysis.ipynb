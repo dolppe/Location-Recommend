{
 "cells": [
  {
   "cell_type": "code",
   "execution_count": 2,
   "metadata": {},
   "outputs": [],
   "source": [
    "# 필요한 모듈 import\n",
    "import csv\n",
    "import json\n",
    "import pandas as pd\n",
    "import numpy as np"
   ]
  },
  {
   "cell_type": "code",
   "execution_count": 20,
   "metadata": {},
   "outputs": [],
   "source": [
    "data_path = '../../data/'\n",
    "output_path = data_path + '/saved/'\n",
    "\n",
    "f = open(data_path+'reference_data/dong_code.csv','r')\n",
    "rdr = csv.reader(f)\n",
    "dongList = dict()\n",
    "\n",
    "for line in rdr:\n",
    "    dongList[line[2]] = line[3]"
   ]
  },
  {
   "cell_type": "code",
   "execution_count": 21,
   "metadata": {},
   "outputs": [],
   "source": [
    "# 원본 데이터 불러오기\n",
    "dfList_day = []\n",
    "dfList_arriveTime = []\n",
    "dfList_sex = []\n",
    "dfList_age = []\n",
    "\n",
    "for idx in range(0,24):\n",
    "    \n",
    "    sidx = str(idx)\n",
    "\n",
    "    if (idx<10):\n",
    "        sidx = '0' + sidx    \n",
    "    \n",
    "    tempString = data_path+'생활이동_행정동_202209\\생활이동_행정동_2022.09_'+ sidx + '시.csv'\n",
    "    temp = pd.read_csv(tempString,encoding='cp949')\n",
    "    \n",
    "    dfList_day.append(temp)\n",
    "    dfList_arriveTime.append(temp)\n",
    "    dfList_sex.append(temp)\n",
    "    dfList_age.append(temp)\n",
    "    \n",
    "    \n",
    "\n",
    "\n",
    "    "
   ]
  },
  {
   "cell_type": "code",
   "execution_count": 22,
   "metadata": {},
   "outputs": [],
   "source": [
    "total_list =[]\n",
    "total_list.append(dfList_day)\n",
    "total_list.append(dfList_arriveTime)\n",
    "total_list.append(dfList_sex)\n",
    "total_list.append(dfList_age)\n",
    "\n",
    "total_word = []\n",
    "total_word.append('day')\n",
    "total_word.append('arriveTime')\n",
    "total_word.append('sex')\n",
    "total_word.append('age')\n",
    "\n",
    "\n",
    "\n"
   ]
  },
  {
   "cell_type": "code",
   "execution_count": 24,
   "metadata": {},
   "outputs": [],
   "source": [
    "# 가공 데이터, 분석 방식 설정\n",
    "month = '09'\n",
    "\n",
    "dropList = ['month','startArr','moveType','averageMoveTime',\n",
    "                'day','arriveTime','age','sex']\n",
    "selectList = ['endArr','peopleNum']\n",
    "\n",
    "total_idx = 3\n",
    "\n",
    "dropList.remove(total_word[total_idx])\n",
    "selectList.insert(1,total_word[total_idx])\n",
    "\n",
    "\n",
    "dfList = total_list[total_idx]"
   ]
  },
  {
   "cell_type": "code",
   "execution_count": 25,
   "metadata": {},
   "outputs": [
    {
     "name": "stdout",
     "output_type": "stream",
     "text": [
      "2825608\n",
      "             peopleNum\n",
      "endArr  age           \n",
      "21000   0       592.05\n",
      "        10      435.47\n",
      "        15      792.92\n",
      "        20     1511.16\n",
      "        25     2275.66\n",
      "...                ...\n",
      "3138041 55       39.02\n",
      "        60       74.31\n",
      "        65       16.36\n",
      "        70       24.39\n",
      "        75        6.00\n",
      "\n",
      "[16952 rows x 1 columns]\n"
     ]
    }
   ],
   "source": [
    "# 데이터 가공\n",
    "\n",
    "for idx in range(0,len(dfList)):\n",
    "    dfList[idx].columns = ['month','day','arriveTime','startArr','endArr','sex','age','moveType','averageMoveTime','peopleNum']\n",
    "    dfList[idx].sort_values(by=['endArr'])\n",
    "    dfList[idx] = dfList[idx].drop(dropList,axis=1)\n",
    "    dfList[idx] = dfList[idx].loc[:,selectList]\n",
    "    dfList[idx].loc[dfList[idx]['peopleNum']=='*','peopleNum'] = '1.5'\n",
    "    dfList[idx] = dfList[idx].astype({'peopleNum':'float'})\n",
    "\n",
    "\n",
    "result = dfList[0]\n",
    "\n",
    "for idx in range(1,len(dfList)):\n",
    "    result = pd.concat([result,dfList[idx]])\n",
    "\n",
    "print(len(result))\n",
    "\n",
    "resultList = []\n",
    "resultList.append('endArr')\n",
    "resultList.append(total_word[total_idx])\n",
    "\n",
    "result = result.groupby(resultList).sum()\n",
    "\n",
    "\n",
    "result.to_excel(output_path + month+\"_\"+total_word[total_idx]+\".xlsx\")\n",
    "print(result)"
   ]
  }
 ],
 "metadata": {
  "kernelspec": {
   "display_name": "Python 3.8.12 ('DEEPLABCUT')",
   "language": "python",
   "name": "python3"
  },
  "language_info": {
   "codemirror_mode": {
    "name": "ipython",
    "version": 3
   },
   "file_extension": ".py",
   "mimetype": "text/x-python",
   "name": "python",
   "nbconvert_exporter": "python",
   "pygments_lexer": "ipython3",
   "version": "3.10.6"
  },
  "orig_nbformat": 4,
  "vscode": {
   "interpreter": {
    "hash": "8c95c689951f184dddb95aee7b343495bd9efc93044a196eb407a06e8d32d981"
   }
  }
 },
 "nbformat": 4,
 "nbformat_minor": 2
}
