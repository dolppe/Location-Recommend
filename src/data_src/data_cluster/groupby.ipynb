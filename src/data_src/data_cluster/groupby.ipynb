{
 "cells": [
  {
   "cell_type": "code",
   "execution_count": 1,
   "metadata": {},
   "outputs": [],
   "source": [
    "# 필요한 모듈 import\n",
    "import csv\n",
    "import json\n",
    "import pandas as pd\n",
    "import numpy as np"
   ]
  },
  {
   "cell_type": "code",
   "execution_count": 4,
   "metadata": {},
   "outputs": [],
   "source": [
    "data_path = '../../../data/'\n",
    "month = '09'\n",
    "output_path = '../../../data/result/'\n",
    "\n",
    "f = open(data_path+'reference_data/dong_code.csv','r')\n",
    "rdr = csv.reader(f)\n",
    "dongList = dict()\n",
    "\n",
    "for line in rdr:\n",
    "    dongList[line[2]] = line[3]\n"
   ]
  },
  {
   "cell_type": "code",
   "execution_count": 6,
   "metadata": {},
   "outputs": [
    {
     "ename": "KeyboardInterrupt",
     "evalue": "",
     "output_type": "error",
     "traceback": [
      "\u001b[1;31m---------------------------------------------------------------------------\u001b[0m",
      "\u001b[1;31mKeyboardInterrupt\u001b[0m                         Traceback (most recent call last)",
      "\u001b[1;32md:\\Location-Recommend\\src\\data_src\\data_cluster\\groupby.ipynb 셀 3\u001b[0m line \u001b[0;36m2\n\u001b[0;32m     <a href='vscode-notebook-cell:/d%3A/Location-Recommend/src/data_src/data_cluster/groupby.ipynb#W2sZmlsZQ%3D%3D?line=15'>16</a>\u001b[0m temp[\u001b[39m'\u001b[39m\u001b[39mname\u001b[39m\u001b[39m'\u001b[39m] \u001b[39m=\u001b[39m temp\u001b[39m.\u001b[39mendArr\u001b[39m.\u001b[39mmap(func)\n\u001b[0;32m     <a href='vscode-notebook-cell:/d%3A/Location-Recommend/src/data_src/data_cluster/groupby.ipynb#W2sZmlsZQ%3D%3D?line=17'>18</a>\u001b[0m result \u001b[39m=\u001b[39m temp\u001b[39m.\u001b[39mgroupby([\u001b[39m'\u001b[39m\u001b[39mname\u001b[39m\u001b[39m'\u001b[39m,\u001b[39m'\u001b[39m\u001b[39mday\u001b[39m\u001b[39m'\u001b[39m,\u001b[39m'\u001b[39m\u001b[39marriveTime\u001b[39m\u001b[39m'\u001b[39m,\u001b[39m'\u001b[39m\u001b[39msex\u001b[39m\u001b[39m'\u001b[39m,\u001b[39m'\u001b[39m\u001b[39mage\u001b[39m\u001b[39m'\u001b[39m,\u001b[39m'\u001b[39m\u001b[39mmoveType\u001b[39m\u001b[39m'\u001b[39m])\u001b[39m.\u001b[39msum()\n\u001b[1;32m---> <a href='vscode-notebook-cell:/d%3A/Location-Recommend/src/data_src/data_cluster/groupby.ipynb#W2sZmlsZQ%3D%3D?line=19'>20</a>\u001b[0m result\u001b[39m.\u001b[39;49mto_excel(output_path \u001b[39m+\u001b[39;49m \u001b[39m'\u001b[39;49m\u001b[39mgroupby_test.xlsx\u001b[39;49m\u001b[39m'\u001b[39;49m)\n",
      "File \u001b[1;32mc:\\Users\\YouSeongMin\\AppData\\Local\\Programs\\Python\\Python310\\lib\\site-packages\\pandas\\core\\generic.py:2284\u001b[0m, in \u001b[0;36mNDFrame.to_excel\u001b[1;34m(self, excel_writer, sheet_name, na_rep, float_format, columns, header, index, index_label, startrow, startcol, engine, merge_cells, encoding, inf_rep, verbose, freeze_panes, storage_options)\u001b[0m\n\u001b[0;32m   2271\u001b[0m \u001b[39mfrom\u001b[39;00m \u001b[39mpandas\u001b[39;00m\u001b[39m.\u001b[39;00m\u001b[39mio\u001b[39;00m\u001b[39m.\u001b[39;00m\u001b[39mformats\u001b[39;00m\u001b[39m.\u001b[39;00m\u001b[39mexcel\u001b[39;00m \u001b[39mimport\u001b[39;00m ExcelFormatter\n\u001b[0;32m   2273\u001b[0m formatter \u001b[39m=\u001b[39m ExcelFormatter(\n\u001b[0;32m   2274\u001b[0m     df,\n\u001b[0;32m   2275\u001b[0m     na_rep\u001b[39m=\u001b[39mna_rep,\n\u001b[1;32m   (...)\u001b[0m\n\u001b[0;32m   2282\u001b[0m     inf_rep\u001b[39m=\u001b[39minf_rep,\n\u001b[0;32m   2283\u001b[0m )\n\u001b[1;32m-> 2284\u001b[0m formatter\u001b[39m.\u001b[39;49mwrite(\n\u001b[0;32m   2285\u001b[0m     excel_writer,\n\u001b[0;32m   2286\u001b[0m     sheet_name\u001b[39m=\u001b[39;49msheet_name,\n\u001b[0;32m   2287\u001b[0m     startrow\u001b[39m=\u001b[39;49mstartrow,\n\u001b[0;32m   2288\u001b[0m     startcol\u001b[39m=\u001b[39;49mstartcol,\n\u001b[0;32m   2289\u001b[0m     freeze_panes\u001b[39m=\u001b[39;49mfreeze_panes,\n\u001b[0;32m   2290\u001b[0m     engine\u001b[39m=\u001b[39;49mengine,\n\u001b[0;32m   2291\u001b[0m     storage_options\u001b[39m=\u001b[39;49mstorage_options,\n\u001b[0;32m   2292\u001b[0m )\n",
      "File \u001b[1;32mc:\\Users\\YouSeongMin\\AppData\\Local\\Programs\\Python\\Python310\\lib\\site-packages\\pandas\\io\\formats\\excel.py:840\u001b[0m, in \u001b[0;36mExcelFormatter.write\u001b[1;34m(self, writer, sheet_name, startrow, startcol, freeze_panes, engine, storage_options)\u001b[0m\n\u001b[0;32m    837\u001b[0m     need_save \u001b[39m=\u001b[39m \u001b[39mTrue\u001b[39;00m\n\u001b[0;32m    839\u001b[0m \u001b[39mtry\u001b[39;00m:\n\u001b[1;32m--> 840\u001b[0m     writer\u001b[39m.\u001b[39;49mwrite_cells(\n\u001b[0;32m    841\u001b[0m         formatted_cells,\n\u001b[0;32m    842\u001b[0m         sheet_name,\n\u001b[0;32m    843\u001b[0m         startrow\u001b[39m=\u001b[39;49mstartrow,\n\u001b[0;32m    844\u001b[0m         startcol\u001b[39m=\u001b[39;49mstartcol,\n\u001b[0;32m    845\u001b[0m         freeze_panes\u001b[39m=\u001b[39;49mfreeze_panes,\n\u001b[0;32m    846\u001b[0m     )\n\u001b[0;32m    847\u001b[0m \u001b[39mfinally\u001b[39;00m:\n\u001b[0;32m    848\u001b[0m     \u001b[39m# make sure to close opened file handles\u001b[39;00m\n\u001b[0;32m    849\u001b[0m     \u001b[39mif\u001b[39;00m need_save:\n",
      "File \u001b[1;32mc:\\Users\\YouSeongMin\\AppData\\Local\\Programs\\Python\\Python310\\lib\\site-packages\\pandas\\io\\excel\\_openpyxl.py:479\u001b[0m, in \u001b[0;36mOpenpyxlWriter.write_cells\u001b[1;34m(self, cells, sheet_name, startrow, startcol, freeze_panes)\u001b[0m\n\u001b[0;32m    475\u001b[0m         \u001b[39msetattr\u001b[39m(xcell, k, v)\n\u001b[0;32m    477\u001b[0m \u001b[39mif\u001b[39;00m cell\u001b[39m.\u001b[39mmergestart \u001b[39mis\u001b[39;00m \u001b[39mnot\u001b[39;00m \u001b[39mNone\u001b[39;00m \u001b[39mand\u001b[39;00m cell\u001b[39m.\u001b[39mmergeend \u001b[39mis\u001b[39;00m \u001b[39mnot\u001b[39;00m \u001b[39mNone\u001b[39;00m:\n\u001b[1;32m--> 479\u001b[0m     wks\u001b[39m.\u001b[39;49mmerge_cells(\n\u001b[0;32m    480\u001b[0m         start_row\u001b[39m=\u001b[39;49mstartrow \u001b[39m+\u001b[39;49m cell\u001b[39m.\u001b[39;49mrow \u001b[39m+\u001b[39;49m \u001b[39m1\u001b[39;49m,\n\u001b[0;32m    481\u001b[0m         start_column\u001b[39m=\u001b[39;49mstartcol \u001b[39m+\u001b[39;49m cell\u001b[39m.\u001b[39;49mcol \u001b[39m+\u001b[39;49m \u001b[39m1\u001b[39;49m,\n\u001b[0;32m    482\u001b[0m         end_column\u001b[39m=\u001b[39;49mstartcol \u001b[39m+\u001b[39;49m cell\u001b[39m.\u001b[39;49mmergeend \u001b[39m+\u001b[39;49m \u001b[39m1\u001b[39;49m,\n\u001b[0;32m    483\u001b[0m         end_row\u001b[39m=\u001b[39;49mstartrow \u001b[39m+\u001b[39;49m cell\u001b[39m.\u001b[39;49mmergestart \u001b[39m+\u001b[39;49m \u001b[39m1\u001b[39;49m,\n\u001b[0;32m    484\u001b[0m     )\n\u001b[0;32m    486\u001b[0m     \u001b[39m# When cells are merged only the top-left cell is preserved\u001b[39;00m\n\u001b[0;32m    487\u001b[0m     \u001b[39m# The behaviour of the other cells in a merged range is\u001b[39;00m\n\u001b[0;32m    488\u001b[0m     \u001b[39m# undefined\u001b[39;00m\n\u001b[0;32m    489\u001b[0m     \u001b[39mif\u001b[39;00m style_kwargs:\n",
      "File \u001b[1;32mc:\\Users\\YouSeongMin\\AppData\\Local\\Programs\\Python\\Python310\\lib\\site-packages\\openpyxl\\worksheet\\worksheet.py:594\u001b[0m, in \u001b[0;36mWorksheet.merge_cells\u001b[1;34m(self, range_string, start_row, start_column, end_row, end_column)\u001b[0m\n\u001b[0;32m    592\u001b[0m mcr \u001b[39m=\u001b[39m MergedCellRange(\u001b[39mself\u001b[39m, range_string)\n\u001b[0;32m    593\u001b[0m \u001b[39mself\u001b[39m\u001b[39m.\u001b[39mmerged_cells\u001b[39m.\u001b[39madd(mcr)\n\u001b[1;32m--> 594\u001b[0m \u001b[39mself\u001b[39;49m\u001b[39m.\u001b[39;49m_clean_merge_range(mcr)\n",
      "File \u001b[1;32mc:\\Users\\YouSeongMin\\AppData\\Local\\Programs\\Python\\Python310\\lib\\site-packages\\openpyxl\\worksheet\\worksheet.py:607\u001b[0m, in \u001b[0;36mWorksheet._clean_merge_range\u001b[1;34m(self, mcr)\u001b[0m\n\u001b[0;32m    605\u001b[0m \u001b[39mfor\u001b[39;00m row, col \u001b[39min\u001b[39;00m cells:\n\u001b[0;32m    606\u001b[0m     \u001b[39mself\u001b[39m\u001b[39m.\u001b[39m_cells[row, col] \u001b[39m=\u001b[39m MergedCell(\u001b[39mself\u001b[39m, row, col)\n\u001b[1;32m--> 607\u001b[0m mcr\u001b[39m.\u001b[39;49mformat()\n",
      "File \u001b[1;32mc:\\Users\\YouSeongMin\\AppData\\Local\\Programs\\Python\\Python310\\lib\\site-packages\\openpyxl\\worksheet\\merge.py:120\u001b[0m, in \u001b[0;36mMergedCellRange.format\u001b[1;34m(self)\u001b[0m\n\u001b[0;32m    118\u001b[0m             cell \u001b[39m=\u001b[39m MergedCell(\u001b[39mself\u001b[39m\u001b[39m.\u001b[39mws, row\u001b[39m=\u001b[39mrow, column\u001b[39m=\u001b[39mcol)\n\u001b[0;32m    119\u001b[0m             \u001b[39mself\u001b[39m\u001b[39m.\u001b[39mws\u001b[39m.\u001b[39m_cells[(cell\u001b[39m.\u001b[39mrow, cell\u001b[39m.\u001b[39mcolumn)] \u001b[39m=\u001b[39m cell\n\u001b[1;32m--> 120\u001b[0m         cell\u001b[39m.\u001b[39;49mborder \u001b[39m+\u001b[39m\u001b[39m=\u001b[39m border\n\u001b[0;32m    122\u001b[0m protected \u001b[39m=\u001b[39m \u001b[39mself\u001b[39m\u001b[39m.\u001b[39mstart_cell\u001b[39m.\u001b[39mprotection \u001b[39mis\u001b[39;00m \u001b[39mnot\u001b[39;00m \u001b[39mNone\u001b[39;00m\n\u001b[0;32m    123\u001b[0m \u001b[39mif\u001b[39;00m protected:\n",
      "File \u001b[1;32mc:\\Users\\YouSeongMin\\AppData\\Local\\Programs\\Python\\Python310\\lib\\site-packages\\openpyxl\\styles\\styleable.py:27\u001b[0m, in \u001b[0;36mStyleDescriptor.__set__\u001b[1;34m(self, instance, value)\u001b[0m\n\u001b[0;32m     25\u001b[0m \u001b[39mif\u001b[39;00m \u001b[39mnot\u001b[39;00m \u001b[39mgetattr\u001b[39m(instance, \u001b[39m\"\u001b[39m\u001b[39m_style\u001b[39m\u001b[39m\"\u001b[39m):\n\u001b[0;32m     26\u001b[0m     instance\u001b[39m.\u001b[39m_style \u001b[39m=\u001b[39m StyleArray()\n\u001b[1;32m---> 27\u001b[0m \u001b[39msetattr\u001b[39m(instance\u001b[39m.\u001b[39m_style, \u001b[39mself\u001b[39m\u001b[39m.\u001b[39mkey, coll\u001b[39m.\u001b[39;49madd(value))\n",
      "File \u001b[1;32mc:\\Users\\YouSeongMin\\AppData\\Local\\Programs\\Python\\Python310\\lib\\site-packages\\openpyxl\\utils\\indexed_list.py:48\u001b[0m, in \u001b[0;36mIndexedList.add\u001b[1;34m(self, value)\u001b[0m\n\u001b[0;32m     47\u001b[0m \u001b[39mdef\u001b[39;00m \u001b[39madd\u001b[39m(\u001b[39mself\u001b[39m, value):\n\u001b[1;32m---> 48\u001b[0m     \u001b[39mself\u001b[39;49m\u001b[39m.\u001b[39;49mappend(value)\n\u001b[0;32m     49\u001b[0m     \u001b[39mreturn\u001b[39;00m \u001b[39mself\u001b[39m\u001b[39m.\u001b[39m_dict[value]\n",
      "File \u001b[1;32mc:\\Users\\YouSeongMin\\AppData\\Local\\Programs\\Python\\Python310\\lib\\site-packages\\openpyxl\\utils\\indexed_list.py:43\u001b[0m, in \u001b[0;36mIndexedList.append\u001b[1;34m(self, value)\u001b[0m\n\u001b[0;32m     42\u001b[0m \u001b[39mdef\u001b[39;00m \u001b[39mappend\u001b[39m(\u001b[39mself\u001b[39m, value):\n\u001b[1;32m---> 43\u001b[0m     \u001b[39mif\u001b[39;00m value \u001b[39mnot\u001b[39;49;00m \u001b[39min\u001b[39;49;00m \u001b[39mself\u001b[39;49m\u001b[39m.\u001b[39;49m_dict:\n\u001b[0;32m     44\u001b[0m         \u001b[39mself\u001b[39m\u001b[39m.\u001b[39m_dict[value] \u001b[39m=\u001b[39m \u001b[39mlen\u001b[39m(\u001b[39mself\u001b[39m)\n\u001b[0;32m     45\u001b[0m         \u001b[39mlist\u001b[39m\u001b[39m.\u001b[39mappend(\u001b[39mself\u001b[39m, value)\n",
      "File \u001b[1;32mc:\\Users\\YouSeongMin\\AppData\\Local\\Programs\\Python\\Python310\\lib\\site-packages\\openpyxl\\descriptors\\serialisable.py:179\u001b[0m, in \u001b[0;36mSerialisable.__eq__\u001b[1;34m(self, other)\u001b[0m\n\u001b[0;32m    177\u001b[0m     \u001b[39mreturn\u001b[39;00m \u001b[39mFalse\u001b[39;00m\n\u001b[0;32m    178\u001b[0m \u001b[39mfor\u001b[39;00m el \u001b[39min\u001b[39;00m \u001b[39mself\u001b[39m\u001b[39m.\u001b[39m__elements__:\n\u001b[1;32m--> 179\u001b[0m     \u001b[39mif\u001b[39;00m \u001b[39mgetattr\u001b[39;49m(\u001b[39mself\u001b[39;49m, el) \u001b[39m!=\u001b[39;49m \u001b[39mgetattr\u001b[39;49m(other, el):\n\u001b[0;32m    180\u001b[0m         \u001b[39mreturn\u001b[39;00m \u001b[39mFalse\u001b[39;00m\n\u001b[0;32m    181\u001b[0m \u001b[39mreturn\u001b[39;00m \u001b[39mTrue\u001b[39;00m\n",
      "File \u001b[1;32mc:\\Users\\YouSeongMin\\AppData\\Local\\Programs\\Python\\Python310\\lib\\site-packages\\openpyxl\\descriptors\\serialisable.py:185\u001b[0m, in \u001b[0;36mSerialisable.__ne__\u001b[1;34m(self, other)\u001b[0m\n\u001b[0;32m    184\u001b[0m \u001b[39mdef\u001b[39;00m \u001b[39m__ne__\u001b[39m(\u001b[39mself\u001b[39m, other):\n\u001b[1;32m--> 185\u001b[0m     \u001b[39mreturn\u001b[39;00m \u001b[39mnot\u001b[39;00m \u001b[39mself\u001b[39;49m \u001b[39m==\u001b[39;49m other\n",
      "File \u001b[1;32mc:\\Users\\YouSeongMin\\AppData\\Local\\Programs\\Python\\Python310\\lib\\site-packages\\openpyxl\\descriptors\\serialisable.py:173\u001b[0m, in \u001b[0;36mSerialisable.__eq__\u001b[1;34m(self, other)\u001b[0m\n\u001b[0;32m    169\u001b[0m         \u001b[39mif\u001b[39;00m attr \u001b[39m!=\u001b[39m \u001b[39m\"\u001b[39m\u001b[39mattr_text\u001b[39m\u001b[39m\"\u001b[39m \u001b[39mand\u001b[39;00m value \u001b[39mis\u001b[39;00m \u001b[39mnot\u001b[39;00m \u001b[39mNone\u001b[39;00m:\n\u001b[0;32m    170\u001b[0m             \u001b[39myield\u001b[39;00m attr, safe_string(value)\n\u001b[1;32m--> 173\u001b[0m \u001b[39mdef\u001b[39;00m \u001b[39m__eq__\u001b[39m(\u001b[39mself\u001b[39m, other):\n\u001b[0;32m    174\u001b[0m     \u001b[39mif\u001b[39;00m \u001b[39mnot\u001b[39;00m \u001b[39mself\u001b[39m\u001b[39m.\u001b[39m\u001b[39m__class__\u001b[39m \u001b[39m==\u001b[39m other\u001b[39m.\u001b[39m\u001b[39m__class__\u001b[39m:\n\u001b[0;32m    175\u001b[0m         \u001b[39mreturn\u001b[39;00m \u001b[39mFalse\u001b[39;00m\n",
      "\u001b[1;31mKeyboardInterrupt\u001b[0m: "
     ]
    }
   ],
   "source": [
    "#데이터 불러오기\n",
    "read_data = pd.read_csv(data_path + '생활이동_행정동_2022' + month + '/생활이동_행정동_2022.'+ month + '_00시.csv', encoding='cp949')\n",
    "\n",
    "\n",
    "read_data.columns= ['month','day','arriveTime','startArr','endArr','sex','age','moveType','averageMoveTime','peopleNum']\n",
    "read_data.sort_values(by=['endArr'])\n",
    "read_data = read_data.drop(['month','startArr','averageMoveTime'],axis=1)\n",
    "read_data = read_data.loc[:,['endArr','day','arriveTime','sex','age','moveType','peopleNum']]\n",
    "read_data.loc[read_data['peopleNum']=='*','peopleNum'] = '1.5'\n",
    "read_data = read_data.astype({'peopleNum':'float'})\n",
    "\n",
    "func = lambda x: dongList.get(x)\n",
    "\n",
    "\n",
    "read_data = read_data.astype({'endArr':'str'})\n",
    "read_data['name'] = read_data.endArr.map(func)\n",
    "\n",
    "result = read_data.groupby(['name','day','arriveTime','sex','age','moveType']).sum()\n",
    "\n",
    "result.to_excel(output_path + month + '_groupby_test.xlsx')\n",
    "\n"
   ]
  }
 ],
 "metadata": {
  "kernelspec": {
   "display_name": "Python 3.8.12 ('DEEPLABCUT')",
   "language": "python",
   "name": "python3"
  },
  "language_info": {
   "codemirror_mode": {
    "name": "ipython",
    "version": 3
   },
   "file_extension": ".py",
   "mimetype": "text/x-python",
   "name": "python",
   "nbconvert_exporter": "python",
   "pygments_lexer": "ipython3",
   "version": "3.10.6"
  },
  "orig_nbformat": 4,
  "vscode": {
   "interpreter": {
    "hash": "8c95c689951f184dddb95aee7b343495bd9efc93044a196eb407a06e8d32d981"
   }
  }
 },
 "nbformat": 4,
 "nbformat_minor": 2
}
