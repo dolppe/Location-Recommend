{
 "cells": [
  {
   "cell_type": "code",
   "execution_count": 1,
   "metadata": {},
   "outputs": [],
   "source": [
    "# 필요한 모듈 import\n",
    "import csv\n",
    "import json\n",
    "import pandas as pd\n",
    "import numpy as np"
   ]
  },
  {
   "cell_type": "code",
   "execution_count": 2,
   "metadata": {},
   "outputs": [],
   "source": [
    "f = open('dong_code.csv','r')\n",
    "rdr = csv.reader(f)\n",
    "dongList = dict()\n",
    "\n",
    "for line in rdr:\n",
    "    dongList[line[2]] = line[3]\n"
   ]
  },
  {
   "cell_type": "code",
   "execution_count": 3,
   "metadata": {},
   "outputs": [],
   "source": [
    "#데이터 불러오기\n",
    "temp = pd.read_csv('생활이동_행정동_202210/생활이동_행정동_2022.10_00시.csv',encoding='cp949')\n",
    "\n",
    "temp.columns= ['month','day','arriveTime','startArr','endArr','sex','age','moveType','averageMoveTime','peopleNum']\n",
    "temp.sort_values(by=['endArr'])\n",
    "temp = temp.drop(['month','startArr','averageMoveTime'],axis=1)\n",
    "temp = temp.loc[:,['endArr','day','arriveTime','sex','age','moveType','peopleNum']]\n",
    "temp.loc[temp['peopleNum']=='*','peopleNum'] = '1.5'\n",
    "temp = temp.astype({'peopleNum':'float'})\n",
    "\n",
    "func = lambda x: dongList.get(x)\n",
    "\n",
    "\n",
    "temp = temp.astype({'endArr':'str'})\n",
    "temp['name'] = temp.endArr.map(func)\n",
    "\n",
    "result = temp.groupby(['name','day','arriveTime','sex','age','moveType']).sum()\n",
    "\n",
    "result.to_excel('groupby_test.xlsx')\n",
    "\n"
   ]
  }
 ],
 "metadata": {
  "kernelspec": {
   "display_name": "Python 3.8.12 ('DEEPLABCUT')",
   "language": "python",
   "name": "python3"
  },
  "language_info": {
   "codemirror_mode": {
    "name": "ipython",
    "version": 3
   },
   "file_extension": ".py",
   "mimetype": "text/x-python",
   "name": "python",
   "nbconvert_exporter": "python",
   "pygments_lexer": "ipython3",
   "version": "3.8.12 | packaged by conda-forge | (default, Oct 12 2021, 21:22:46) [MSC v.1916 64 bit (AMD64)]"
  },
  "orig_nbformat": 4,
  "vscode": {
   "interpreter": {
    "hash": "8c95c689951f184dddb95aee7b343495bd9efc93044a196eb407a06e8d32d981"
   }
  }
 },
 "nbformat": 4,
 "nbformat_minor": 2
}
