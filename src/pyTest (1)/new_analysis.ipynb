{
 "cells": [
  {
   "cell_type": "code",
   "execution_count": 1,
   "metadata": {},
   "outputs": [],
   "source": [
    "# 필요한 모듈 import\n",
    "import csv\n",
    "import json\n",
    "import pandas as pd\n",
    "import numpy as np"
   ]
  },
  {
   "cell_type": "code",
   "execution_count": 2,
   "metadata": {},
   "outputs": [],
   "source": [
    "f = open('dong_code.csv','r')\n",
    "rdr = csv.reader(f)\n",
    "dongList = dict()\n",
    "\n",
    "for line in rdr:\n",
    "    dongList[line[2]] = line[3]"
   ]
  },
  {
   "cell_type": "code",
   "execution_count": 3,
   "metadata": {},
   "outputs": [],
   "source": [
    "dfList_day = []\n",
    "dfList_arriveTime = []\n",
    "dfList_sex = []\n",
    "dfList_age = []\n",
    "\n",
    "for idx in range(0,24):\n",
    "    \n",
    "    sidx = str(idx)\n",
    "\n",
    "    if (idx<10):\n",
    "        sidx = '0' + sidx    \n",
    "    \n",
    "    tempString = '생활이동_행정동_202210\\생활이동_행정동_2022.10_'+ sidx + '시.csv'\n",
    "    temp = pd.read_csv(tempString,encoding='cp949')\n",
    "    \n",
    "    dfList_day.append(temp)\n",
    "    dfList_arriveTime.append(temp)\n",
    "    dfList_sex.append(temp)\n",
    "    dfList_age.append(temp)\n",
    "    \n",
    "    \n",
    "\n",
    "\n",
    "    "
   ]
  },
  {
   "cell_type": "code",
   "execution_count": 4,
   "metadata": {},
   "outputs": [],
   "source": [
    "total_list =[]\n",
    "total_list.append(dfList_day)\n",
    "total_list.append(dfList_arriveTime)\n",
    "total_list.append(dfList_sex)\n",
    "total_list.append(dfList_age)\n",
    "\n",
    "total_word = []\n",
    "total_word.append('day')\n",
    "total_word.append('arriveTime')\n",
    "total_word.append('sex')\n",
    "total_word.append('age')\n",
    "\n",
    "\n",
    "\n"
   ]
  },
  {
   "cell_type": "code",
   "execution_count": 7,
   "metadata": {},
   "outputs": [],
   "source": [
    "#4번 반복 끝나면 변경\n",
    "month = '10'\n",
    "##### 반복마다 word랑 dfList 변경, dropList, selectList도 변경\n",
    "##### 제일 아래에groupby도 변경\n",
    "\n",
    "dropList = ['month','startArr','moveType','averageMoveTime',\n",
    "                'day','arriveTime','age','sex']\n",
    "selectList = ['endArr','peopleNum']\n",
    "\n",
    "total_idx = 3\n",
    "\n",
    "dropList.remove(total_word[total_idx])\n",
    "selectList.insert(1,total_word[total_idx])\n",
    "\n",
    "\n",
    "dfList = total_list[total_idx]"
   ]
  },
  {
   "cell_type": "code",
   "execution_count": 8,
   "metadata": {},
   "outputs": [
    {
     "name": "stdout",
     "output_type": "stream",
     "text": [
      "137244255\n",
      "             peopleNum\n",
      "endArr  age           \n",
      "21000   0     17428.11\n",
      "        10     9878.82\n",
      "        15    22338.44\n",
      "        20    36039.66\n",
      "        25    61170.10\n",
      "...                ...\n",
      "3138041 60     2906.61\n",
      "        65     2771.88\n",
      "        70     1859.50\n",
      "        75     1580.19\n",
      "        80     1401.06\n",
      "\n",
      "[18411 rows x 1 columns]\n"
     ]
    }
   ],
   "source": [
    "for idx in range(0,len(dfList)):\n",
    "    dfList[idx].columns = ['month','day','arriveTime','startArr','endArr','sex','age','moveType','averageMoveTime','peopleNum']\n",
    "    dfList[idx].sort_values(by=['endArr'])\n",
    "    dfList[idx] = dfList[idx].drop(dropList,axis=1)\n",
    "    dfList[idx] = dfList[idx].loc[:,selectList]\n",
    "    dfList[idx].loc[dfList[idx]['peopleNum']=='*','peopleNum'] = '1.5'\n",
    "    dfList[idx] = dfList[idx].astype({'peopleNum':'float'})\n",
    "\n",
    "#func = lambda x: dongList.get(x)\n",
    "\n",
    "#for idx in range(0,len(dfList)):\n",
    "#    dfList[idx] = dfList[idx].astype({'endArr':'str'})\n",
    "#    dfList[idx]['name'] = dfList[idx].endArr.map(func)\n",
    "\n",
    "result = dfList[0]\n",
    "\n",
    "for idx in range(1,len(dfList)):\n",
    "    result = pd.concat([result,dfList[idx]])\n",
    "\n",
    "print(len(result))\n",
    "\n",
    "resultList = []\n",
    "resultList.append('endArr')\n",
    "resultList.append(total_word[total_idx])\n",
    "###############\n",
    "result = result.groupby(resultList).sum()\n",
    "\n",
    "\n",
    "\n",
    "result.to_excel(month+\"_\"+total_word[total_idx]+\".xlsx\")\n",
    "print(result)"
   ]
  },
  {
   "cell_type": "code",
   "execution_count": 13,
   "metadata": {},
   "outputs": [
    {
     "ename": "KeyboardInterrupt",
     "evalue": "",
     "output_type": "error",
     "traceback": [
      "\u001b[1;31m---------------------------------------------------------------------------\u001b[0m",
      "\u001b[1;31mKeyboardInterrupt\u001b[0m                         Traceback (most recent call last)",
      "Cell \u001b[1;32mIn [13], line 4\u001b[0m\n\u001b[0;32m      1\u001b[0m result \u001b[39m=\u001b[39m dfList[\u001b[39m0\u001b[39m]\n\u001b[0;32m      3\u001b[0m \u001b[39mfor\u001b[39;00m idx \u001b[39min\u001b[39;00m \u001b[39mrange\u001b[39m(\u001b[39m1\u001b[39m,\u001b[39mlen\u001b[39m(dfList)):\n\u001b[1;32m----> 4\u001b[0m     result \u001b[39m=\u001b[39m pd\u001b[39m.\u001b[39;49mconcat([result,dfList[idx]])\n\u001b[0;32m      6\u001b[0m \u001b[39mprint\u001b[39m(\u001b[39mlen\u001b[39m(result))\n\u001b[0;32m      8\u001b[0m result \u001b[39m=\u001b[39m result\u001b[39m.\u001b[39mgroupby([\u001b[39m'\u001b[39m\u001b[39mname\u001b[39m\u001b[39m'\u001b[39m,\u001b[39m'\u001b[39m\u001b[39mage\u001b[39m\u001b[39m'\u001b[39m])\u001b[39m.\u001b[39msum()\n",
      "File \u001b[1;32mc:\\Users\\dalcom\\anaconda3\\envs\\asset\\lib\\site-packages\\pandas\\util\\_decorators.py:331\u001b[0m, in \u001b[0;36mdeprecate_nonkeyword_arguments.<locals>.decorate.<locals>.wrapper\u001b[1;34m(*args, **kwargs)\u001b[0m\n\u001b[0;32m    325\u001b[0m \u001b[39mif\u001b[39;00m \u001b[39mlen\u001b[39m(args) \u001b[39m>\u001b[39m num_allow_args:\n\u001b[0;32m    326\u001b[0m     warnings\u001b[39m.\u001b[39mwarn(\n\u001b[0;32m    327\u001b[0m         msg\u001b[39m.\u001b[39mformat(arguments\u001b[39m=\u001b[39m_format_argument_list(allow_args)),\n\u001b[0;32m    328\u001b[0m         \u001b[39mFutureWarning\u001b[39;00m,\n\u001b[0;32m    329\u001b[0m         stacklevel\u001b[39m=\u001b[39mfind_stack_level(),\n\u001b[0;32m    330\u001b[0m     )\n\u001b[1;32m--> 331\u001b[0m \u001b[39mreturn\u001b[39;00m func(\u001b[39m*\u001b[39margs, \u001b[39m*\u001b[39m\u001b[39m*\u001b[39mkwargs)\n",
      "File \u001b[1;32mc:\\Users\\dalcom\\anaconda3\\envs\\asset\\lib\\site-packages\\pandas\\core\\reshape\\concat.py:381\u001b[0m, in \u001b[0;36mconcat\u001b[1;34m(objs, axis, join, ignore_index, keys, levels, names, verify_integrity, sort, copy)\u001b[0m\n\u001b[0;32m    159\u001b[0m \u001b[39m\"\"\"\u001b[39;00m\n\u001b[0;32m    160\u001b[0m \u001b[39mConcatenate pandas objects along a particular axis.\u001b[39;00m\n\u001b[0;32m    161\u001b[0m \n\u001b[1;32m   (...)\u001b[0m\n\u001b[0;32m    366\u001b[0m \u001b[39m1   3   4\u001b[39;00m\n\u001b[0;32m    367\u001b[0m \u001b[39m\"\"\"\u001b[39;00m\n\u001b[0;32m    368\u001b[0m op \u001b[39m=\u001b[39m _Concatenator(\n\u001b[0;32m    369\u001b[0m     objs,\n\u001b[0;32m    370\u001b[0m     axis\u001b[39m=\u001b[39maxis,\n\u001b[1;32m   (...)\u001b[0m\n\u001b[0;32m    378\u001b[0m     sort\u001b[39m=\u001b[39msort,\n\u001b[0;32m    379\u001b[0m )\n\u001b[1;32m--> 381\u001b[0m \u001b[39mreturn\u001b[39;00m op\u001b[39m.\u001b[39;49mget_result()\n",
      "File \u001b[1;32mc:\\Users\\dalcom\\anaconda3\\envs\\asset\\lib\\site-packages\\pandas\\core\\reshape\\concat.py:616\u001b[0m, in \u001b[0;36m_Concatenator.get_result\u001b[1;34m(self)\u001b[0m\n\u001b[0;32m    612\u001b[0m             indexers[ax] \u001b[39m=\u001b[39m obj_labels\u001b[39m.\u001b[39mget_indexer(new_labels)\n\u001b[0;32m    614\u001b[0m     mgrs_indexers\u001b[39m.\u001b[39mappend((obj\u001b[39m.\u001b[39m_mgr, indexers))\n\u001b[1;32m--> 616\u001b[0m new_data \u001b[39m=\u001b[39m concatenate_managers(\n\u001b[0;32m    617\u001b[0m     mgrs_indexers, \u001b[39mself\u001b[39;49m\u001b[39m.\u001b[39;49mnew_axes, concat_axis\u001b[39m=\u001b[39;49m\u001b[39mself\u001b[39;49m\u001b[39m.\u001b[39;49mbm_axis, copy\u001b[39m=\u001b[39;49m\u001b[39mself\u001b[39;49m\u001b[39m.\u001b[39;49mcopy\n\u001b[0;32m    618\u001b[0m )\n\u001b[0;32m    619\u001b[0m \u001b[39mif\u001b[39;00m \u001b[39mnot\u001b[39;00m \u001b[39mself\u001b[39m\u001b[39m.\u001b[39mcopy:\n\u001b[0;32m    620\u001b[0m     new_data\u001b[39m.\u001b[39m_consolidate_inplace()\n",
      "File \u001b[1;32mc:\\Users\\dalcom\\anaconda3\\envs\\asset\\lib\\site-packages\\pandas\\core\\internals\\concat.py:223\u001b[0m, in \u001b[0;36mconcatenate_managers\u001b[1;34m(mgrs_indexers, axes, concat_axis, copy)\u001b[0m\n\u001b[0;32m    217\u001b[0m vals \u001b[39m=\u001b[39m [ju\u001b[39m.\u001b[39mblock\u001b[39m.\u001b[39mvalues \u001b[39mfor\u001b[39;00m ju \u001b[39min\u001b[39;00m join_units]\n\u001b[0;32m    219\u001b[0m \u001b[39mif\u001b[39;00m \u001b[39mnot\u001b[39;00m blk\u001b[39m.\u001b[39mis_extension:\n\u001b[0;32m    220\u001b[0m     \u001b[39m# _is_uniform_join_units ensures a single dtype, so\u001b[39;00m\n\u001b[0;32m    221\u001b[0m     \u001b[39m#  we can use np.concatenate, which is more performant\u001b[39;00m\n\u001b[0;32m    222\u001b[0m     \u001b[39m#  than concat_compat\u001b[39;00m\n\u001b[1;32m--> 223\u001b[0m     values \u001b[39m=\u001b[39m np\u001b[39m.\u001b[39;49mconcatenate(vals, axis\u001b[39m=\u001b[39;49m\u001b[39m1\u001b[39;49m)\n\u001b[0;32m    224\u001b[0m \u001b[39melse\u001b[39;00m:\n\u001b[0;32m    225\u001b[0m     \u001b[39m# TODO(EA2D): special-casing not needed with 2D EAs\u001b[39;00m\n\u001b[0;32m    226\u001b[0m     values \u001b[39m=\u001b[39m concat_compat(vals, axis\u001b[39m=\u001b[39m\u001b[39m1\u001b[39m)\n",
      "File \u001b[1;32m<__array_function__ internals>:180\u001b[0m, in \u001b[0;36mconcatenate\u001b[1;34m(*args, **kwargs)\u001b[0m\n",
      "\u001b[1;31mKeyboardInterrupt\u001b[0m: "
     ]
    }
   ],
   "source": []
  },
  {
   "cell_type": "code",
   "execution_count": 9,
   "metadata": {},
   "outputs": [],
   "source": [
    "result.to_excel(month+\"_\"+word+\".xlsx\")"
   ]
  }
 ],
 "metadata": {
  "kernelspec": {
   "display_name": "Python 3.8.12 ('DEEPLABCUT')",
   "language": "python",
   "name": "python3"
  },
  "language_info": {
   "codemirror_mode": {
    "name": "ipython",
    "version": 3
   },
   "file_extension": ".py",
   "mimetype": "text/x-python",
   "name": "python",
   "nbconvert_exporter": "python",
   "pygments_lexer": "ipython3",
   "version": "3.8.12"
  },
  "orig_nbformat": 4,
  "vscode": {
   "interpreter": {
    "hash": "8c95c689951f184dddb95aee7b343495bd9efc93044a196eb407a06e8d32d981"
   }
  }
 },
 "nbformat": 4,
 "nbformat_minor": 2
}
