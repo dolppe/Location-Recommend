{
 "cells": [
  {
   "cell_type": "code",
   "execution_count": 1,
   "metadata": {},
   "outputs": [],
   "source": [
    "# 필요한 모듈 import\n",
    "import csv\n",
    "import json\n",
    "import pandas as pd\n",
    "import numpy as np"
   ]
  },
  {
   "cell_type": "code",
   "execution_count": 2,
   "metadata": {},
   "outputs": [],
   "source": [
    "f = open('dong_code.csv','r')\n",
    "rdr = csv.reader(f)\n",
    "dongList = dict()\n",
    "\n",
    "for line in rdr:\n",
    "    dongList[line[2]] = line[3]\n"
   ]
  },
  {
   "cell_type": "code",
   "execution_count": 3,
   "metadata": {},
   "outputs": [],
   "source": [
    "#데이터 불러오기\n",
    "dfList = []\n",
    "\n",
    "for idx in range(0,24):\n",
    "    \n",
    "    sidx = str(idx)\n",
    "\n",
    "    if (idx<10):\n",
    "        sidx = '0' + sidx    \n",
    "    \n",
    "    tempString = '생활이동_행정동_202210\\생활이동_행정동_2022.10_'+ sidx + '시.csv'\n",
    "    temp = pd.read_csv(tempString,encoding='cp949')\n",
    "    dfList.append(temp)\n",
    "\n",
    "\n",
    "\n",
    "\n"
   ]
  },
  {
   "cell_type": "code",
   "execution_count": 4,
   "metadata": {},
   "outputs": [
    {
     "name": "stdout",
     "output_type": "stream",
     "text": [
      "137244255\n"
     ]
    }
   ],
   "source": [
    "#데이터 가공\n",
    "for idx in range(0,len(dfList)):\n",
    "    dfList[idx].columns = ['month','day','arriveTime','startArr','endArr','sex','age','moveType','averageMoveTime','peopleNum']\n",
    "    dfList[idx].sort_values(by=['endArr'])\n",
    "    dfList[idx] = dfList[idx].drop(['month','startArr','averageMoveTime'],axis=1)\n",
    "    dfList[idx] = dfList[idx].loc[:,['endArr','day','arriveTime','sex','age','moveType','peopleNum']]\n",
    "    dfList[idx].loc[dfList[idx]['peopleNum']=='*','peopleNum'] = '1.5'\n",
    "    dfList[idx] = dfList[idx].astype({'peopleNum':'float'})\n",
    "    \n",
    "\n",
    "\n",
    "\n",
    "sum = 0\n",
    "for idx in range(0,len(dfList)):\n",
    "    sum = sum + len(dfList[idx])\n",
    "print(sum)\n"
   ]
  },
  {
   "cell_type": "code",
   "execution_count": 5,
   "metadata": {},
   "outputs": [],
   "source": [
    "func = lambda x: dongList.get(x)\n",
    "\n",
    "for idx in range(0,len(dfList)):\n",
    "    dfList[idx] = dfList[idx].astype({'endArr':'str'})\n",
    "    dfList[idx]['name'] = dfList[idx].endArr.map(func)"
   ]
  },
  {
   "cell_type": "code",
   "execution_count": 7,
   "metadata": {},
   "outputs": [],
   "source": [
    "dfList[0]\n",
    "df_save = dfList.copy()\n"
   ]
  },
  {
   "cell_type": "code",
   "execution_count": 8,
   "metadata": {},
   "outputs": [
    {
     "name": "stdout",
     "output_type": "stream",
     "text": [
      "137244255\n"
     ]
    },
    {
     "ename": "ValueError",
     "evalue": "This sheet is too large! Your sheet size is: 20747405, 1 Max sheet size is: 1048576, 16384",
     "output_type": "error",
     "traceback": [
      "\u001b[1;31m---------------------------------------------------------------------------\u001b[0m",
      "\u001b[1;31mValueError\u001b[0m                                Traceback (most recent call last)",
      "\u001b[1;32m~\\AppData\\Local\\Temp/ipykernel_12484/2882370178.py\u001b[0m in \u001b[0;36m<module>\u001b[1;34m\u001b[0m\n\u001b[0;32m      9\u001b[0m \u001b[1;33m\u001b[0m\u001b[0m\n\u001b[0;32m     10\u001b[0m \u001b[1;33m\u001b[0m\u001b[0m\n\u001b[1;32m---> 11\u001b[1;33m \u001b[0mresult\u001b[0m\u001b[1;33m.\u001b[0m\u001b[0mto_excel\u001b[0m\u001b[1;33m(\u001b[0m\u001b[1;34m'test2.xlsx'\u001b[0m\u001b[1;33m)\u001b[0m\u001b[1;33m\u001b[0m\u001b[1;33m\u001b[0m\u001b[0m\n\u001b[0m",
      "\u001b[1;32mc:\\Users\\dalcom\\anaconda3\\envs\\DEEPLABCUT\\lib\\site-packages\\pandas\\core\\generic.py\u001b[0m in \u001b[0;36mto_excel\u001b[1;34m(self, excel_writer, sheet_name, na_rep, float_format, columns, header, index, index_label, startrow, startcol, engine, merge_cells, encoding, inf_rep, verbose, freeze_panes, storage_options)\u001b[0m\n\u001b[0;32m   2343\u001b[0m             \u001b[0minf_rep\u001b[0m\u001b[1;33m=\u001b[0m\u001b[0minf_rep\u001b[0m\u001b[1;33m,\u001b[0m\u001b[1;33m\u001b[0m\u001b[1;33m\u001b[0m\u001b[0m\n\u001b[0;32m   2344\u001b[0m         )\n\u001b[1;32m-> 2345\u001b[1;33m         formatter.write(\n\u001b[0m\u001b[0;32m   2346\u001b[0m             \u001b[0mexcel_writer\u001b[0m\u001b[1;33m,\u001b[0m\u001b[1;33m\u001b[0m\u001b[1;33m\u001b[0m\u001b[0m\n\u001b[0;32m   2347\u001b[0m             \u001b[0msheet_name\u001b[0m\u001b[1;33m=\u001b[0m\u001b[0msheet_name\u001b[0m\u001b[1;33m,\u001b[0m\u001b[1;33m\u001b[0m\u001b[1;33m\u001b[0m\u001b[0m\n",
      "\u001b[1;32mc:\\Users\\dalcom\\anaconda3\\envs\\DEEPLABCUT\\lib\\site-packages\\pandas\\io\\formats\\excel.py\u001b[0m in \u001b[0;36mwrite\u001b[1;34m(self, writer, sheet_name, startrow, startcol, freeze_panes, engine, storage_options)\u001b[0m\n\u001b[0;32m    875\u001b[0m         \u001b[0mnum_rows\u001b[0m\u001b[1;33m,\u001b[0m \u001b[0mnum_cols\u001b[0m \u001b[1;33m=\u001b[0m \u001b[0mself\u001b[0m\u001b[1;33m.\u001b[0m\u001b[0mdf\u001b[0m\u001b[1;33m.\u001b[0m\u001b[0mshape\u001b[0m\u001b[1;33m\u001b[0m\u001b[1;33m\u001b[0m\u001b[0m\n\u001b[0;32m    876\u001b[0m         \u001b[1;32mif\u001b[0m \u001b[0mnum_rows\u001b[0m \u001b[1;33m>\u001b[0m \u001b[0mself\u001b[0m\u001b[1;33m.\u001b[0m\u001b[0mmax_rows\u001b[0m \u001b[1;32mor\u001b[0m \u001b[0mnum_cols\u001b[0m \u001b[1;33m>\u001b[0m \u001b[0mself\u001b[0m\u001b[1;33m.\u001b[0m\u001b[0mmax_cols\u001b[0m\u001b[1;33m:\u001b[0m\u001b[1;33m\u001b[0m\u001b[1;33m\u001b[0m\u001b[0m\n\u001b[1;32m--> 877\u001b[1;33m             raise ValueError(\n\u001b[0m\u001b[0;32m    878\u001b[0m                 \u001b[1;34mf\"This sheet is too large! Your sheet size is: {num_rows}, {num_cols} \"\u001b[0m\u001b[1;33m\u001b[0m\u001b[1;33m\u001b[0m\u001b[0m\n\u001b[0;32m    879\u001b[0m                 \u001b[1;34mf\"Max sheet size is: {self.max_rows}, {self.max_cols}\"\u001b[0m\u001b[1;33m\u001b[0m\u001b[1;33m\u001b[0m\u001b[0m\n",
      "\u001b[1;31mValueError\u001b[0m: This sheet is too large! Your sheet size is: 20747405, 1 Max sheet size is: 1048576, 16384"
     ]
    }
   ],
   "source": [
    "result = dfList[0]\n",
    "\n",
    "for idx in range(1,len(dfList)):\n",
    "    result = pd.concat([result,dfList[idx]])\n",
    "\n",
    "print(len(result))\n",
    "\n",
    "result = result.groupby(['name','day','arriveTime','sex','age','moveType']).sum()\n",
    "\n",
    "\n",
    "result.to_excel('test2.xlsx')"
   ]
  },
  {
   "cell_type": "code",
   "execution_count": 16,
   "metadata": {},
   "outputs": [],
   "source": [
    "result.to_excel('test2.xlsx')"
   ]
  },
  {
   "cell_type": "code",
   "execution_count": 63,
   "metadata": {},
   "outputs": [
    {
     "data": {
      "text/plain": [
       "           endArr \n",
       "peopleNum  21000      522857.53\n",
       "           22000      346692.27\n",
       "           24000      233018.70\n",
       "           25000      616547.27\n",
       "           26000      119427.99\n",
       "                        ...    \n",
       "           3138037     18778.53\n",
       "           3138038     55207.88\n",
       "           3138039     37852.99\n",
       "           3138040    122684.80\n",
       "           3138041     21978.70\n",
       "Length: 1152, dtype: float64"
      ]
     },
     "execution_count": 63,
     "metadata": {},
     "output_type": "execute_result"
    }
   ],
   "source": [
    "#result['endArr'].map(dongList)\n",
    "\n",
    "test = result\n",
    "#test.columns\n",
    "test.unstack()\n",
    "\n"
   ]
  },
  {
   "cell_type": "code",
   "execution_count": 7,
   "metadata": {},
   "outputs": [
    {
     "name": "stdout",
     "output_type": "stream",
     "text": [
      "endArr        int64\n",
      "peopleNum    object\n",
      "dtype: object\n",
      "endArr        int64\n",
      "peopleNum    object\n",
      "dtype: object\n",
      "endArr         int64\n",
      "peopleNum    float64\n",
      "dtype: object\n",
      "endArr         int64\n",
      "peopleNum    float64\n",
      "dtype: object\n"
     ]
    },
    {
     "data": {
      "text/html": [
       "<div>\n",
       "<style scoped>\n",
       "    .dataframe tbody tr th:only-of-type {\n",
       "        vertical-align: middle;\n",
       "    }\n",
       "\n",
       "    .dataframe tbody tr th {\n",
       "        vertical-align: top;\n",
       "    }\n",
       "\n",
       "    .dataframe thead th {\n",
       "        text-align: right;\n",
       "    }\n",
       "</style>\n",
       "<table border=\"1\" class=\"dataframe\">\n",
       "  <thead>\n",
       "    <tr style=\"text-align: right;\">\n",
       "      <th></th>\n",
       "      <th>peopleNum</th>\n",
       "    </tr>\n",
       "    <tr>\n",
       "      <th>endArr</th>\n",
       "      <th></th>\n",
       "    </tr>\n",
       "  </thead>\n",
       "  <tbody>\n",
       "    <tr>\n",
       "      <th>123123412</th>\n",
       "      <td>2.0</td>\n",
       "    </tr>\n",
       "    <tr>\n",
       "      <th>123123415</th>\n",
       "      <td>3.5</td>\n",
       "    </tr>\n",
       "    <tr>\n",
       "      <th>123123416</th>\n",
       "      <td>4.5</td>\n",
       "    </tr>\n",
       "  </tbody>\n",
       "</table>\n",
       "</div>"
      ],
      "text/plain": [
       "           peopleNum\n",
       "endArr              \n",
       "123123412        2.0\n",
       "123123415        3.5\n",
       "123123416        4.5"
      ]
     },
     "execution_count": 7,
     "metadata": {},
     "output_type": "execute_result"
    }
   ],
   "source": [
    "df = pd.DataFrame(\n",
    "    {\n",
    "        'endArr' : [123123412,123123415,123123416],\n",
    "        'peopleNum' : ['1','2','*']\n",
    "    }\n",
    ")\n",
    "\n",
    "df2 = pd.DataFrame(\n",
    "    {\n",
    "        'endArr' : [123123412,123123415,123123416],\n",
    "        'peopleNum' : ['1','*','3']\n",
    "    }\n",
    ")\n",
    "\n",
    "df.loc[df['peopleNum']=='*','peopleNum'] = '1.5'\n",
    "df2.loc[df2['peopleNum']=='*','peopleNum'] = '1.5'\n",
    "\n",
    "\n",
    "\n",
    "print(df.dtypes)\n",
    "print(df2.dtypes)\n",
    "df = df.astype({'peopleNum':'float'})\n",
    "df2 = df2.astype({'peopleNum':'float'})\n",
    "\n",
    "print(df.dtypes)\n",
    "print(df2.dtypes)\n",
    "result = pd.concat([df,df2])\n",
    "\n",
    "result.groupby('endArr').sum()\n"
   ]
  }
 ],
 "metadata": {
  "kernelspec": {
   "display_name": "base",
   "language": "python",
   "name": "python3"
  },
  "language_info": {
   "codemirror_mode": {
    "name": "ipython",
    "version": 3
   },
   "file_extension": ".py",
   "mimetype": "text/x-python",
   "name": "python",
   "nbconvert_exporter": "python",
   "pygments_lexer": "ipython3",
   "version": "3.9.13 (main, Aug 25 2022, 23:51:50) [MSC v.1916 64 bit (AMD64)]"
  },
  "orig_nbformat": 4,
  "vscode": {
   "interpreter": {
    "hash": "1bdfa0dca14576051fbe0bb203def5985fdc4e05cc0f365aae123a4d00c188e5"
   }
  }
 },
 "nbformat": 4,
 "nbformat_minor": 2
}
